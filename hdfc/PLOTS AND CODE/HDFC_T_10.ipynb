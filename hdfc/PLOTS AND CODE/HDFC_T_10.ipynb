{
  "nbformat": 4,
  "nbformat_minor": 0,
  "metadata": {
    "colab": {
      "name": "MLPRegressor.ipynb",
      "provenance": [],
      "collapsed_sections": []
    },
    "kernelspec": {
      "name": "python3",
      "display_name": "Python 3"
    },
    "language_info": {
      "name": "python"
    }
  },
  "cells": [
    {
      "cell_type": "code",
      "metadata": {
        "id": "46QVN98W54kN"
      },
      "source": [
        "import pandas as pd\n",
        "import numpy as np\n",
        "from sklearn.neural_network import MLPRegressor,MLPClassifier\n",
        "from sklearn.model_selection import train_test_split\n",
        "from sklearn.metrics import r2_score,mean_absolute_error,mean_squared_error,mean_squared_log_error,median_absolute_error\n"
      ],
      "execution_count": 252,
      "outputs": []
    },
    {
      "cell_type": "code",
      "metadata": {
        "id": "n3zS3KDZ6AeX"
      },
      "source": [
        "df=pd.read_csv(\"HDFCFINAL.csv\")"
      ],
      "execution_count": 253,
      "outputs": []
    },
    {
      "cell_type": "code",
      "metadata": {
        "colab": {
          "base_uri": "https://localhost:8080/"
        },
        "id": "L5u2wTo56CQZ",
        "outputId": "3ecd8f75-565c-4065-b4bc-9b495be9044d"
      },
      "source": [
        "#personalised normalization by junaid \n",
        "x= df['Close'].max()\n",
        "y= df['Close'].min()\n",
        "z=df['Open'].max()\n",
        "df['NOpen']=1.0\n",
        "df['NClose']=1.0\n",
        "df['NPreClose']=1.0\n",
        "df['NPPreClose']=1.0\n",
        "#print(x/y)\n",
        "#(df['Close'])[1]=2\n",
        "print((df['Close'])[1])\n",
        "df.dropna()\n",
        "for i in range(len(df['Close'])):\n",
        "  (df['NClose'])[i]=float((df['Close'])[i])/x\n",
        "  (df['NPreClose'])[i]=float((df['PreClose'])[i])/x\n",
        "  (df['NOpen'])[i]=float((df['Open'])[i])/z\n",
        "  #(df['NPPreClose'])[i]=float((df['PPreClose'])[i])/x\n",
        "\n",
        "\n",
        "#df.dtypes\n",
        "df.min()"
      ],
      "execution_count": 254,
      "outputs": [
        {
          "output_type": "stream",
          "text": [
            "13.402999999999999\n"
          ],
          "name": "stdout"
        },
        {
          "output_type": "stream",
          "text": [
            "/usr/local/lib/python3.7/dist-packages/ipykernel_launcher.py:14: SettingWithCopyWarning: \n",
            "A value is trying to be set on a copy of a slice from a DataFrame\n",
            "\n",
            "See the caveats in the documentation: https://pandas.pydata.org/pandas-docs/stable/user_guide/indexing.html#returning-a-view-versus-a-copy\n",
            "  \n",
            "/usr/local/lib/python3.7/dist-packages/ipykernel_launcher.py:15: SettingWithCopyWarning: \n",
            "A value is trying to be set on a copy of a slice from a DataFrame\n",
            "\n",
            "See the caveats in the documentation: https://pandas.pydata.org/pandas-docs/stable/user_guide/indexing.html#returning-a-view-versus-a-copy\n",
            "  from ipykernel import kernelapp as app\n",
            "/usr/local/lib/python3.7/dist-packages/ipykernel_launcher.py:16: SettingWithCopyWarning: \n",
            "A value is trying to be set on a copy of a slice from a DataFrame\n",
            "\n",
            "See the caveats in the documentation: https://pandas.pydata.org/pandas-docs/stable/user_guide/indexing.html#returning-a-view-versus-a-copy\n",
            "  app.launch_new_instance()\n"
          ],
          "name": "stderr"
        },
        {
          "output_type": "execute_result",
          "data": {
            "text/plain": [
              "Unnamed: 0                                                      0\n",
              "Date                                                   01-02-2010\n",
              "Open                                                       11.201\n",
              "High                                                       11.209\n",
              "Low                                                        10.985\n",
              "Close                                                      11.083\n",
              "Adj Close                                                  10.361\n",
              "Volume                                                     288400\n",
              "headlines       ...Capital inflows likely to be strong, may pu...\n",
              "label                                                           0\n",
              "Subjectivity                                                    0\n",
              "Polarity                                                     -0.8\n",
              "Compound                                                  -0.9981\n",
              "Negative                                                        0\n",
              "Neutral                                                     0.642\n",
              "Positive                                                        0\n",
              "sentences       ['...Capital inflows likely to be strong, may ...\n",
              "scores                                           [-0.501, -0.593]\n",
              "scores_sum                                                 -6.464\n",
              "PreClose                                                   11.083\n",
              "NOpen                                                    0.170513\n",
              "NClose                                                   0.168807\n",
              "NPreClose                                                0.168807\n",
              "NPPreClose                                                      1\n",
              "dtype: object"
            ]
          },
          "metadata": {
            "tags": []
          },
          "execution_count": 254
        }
      ]
    },
    {
      "cell_type": "code",
      "metadata": {
        "id": "fIxLsYEa6EKl"
      },
      "source": [
        "#FOR PERSOANLISED SCALLER \n",
        "#X=df[['Compound','Negative','Neutral','Positive','label','NPPreClose','Subjectivity','Polarity','scores_sum']]\n",
        "X=df[['NPreClose','Subjectivity','Polarity']]\n",
        "Y=df[['NClose']] \n",
        "Z=df[['NOpen']]\n",
        "X_train,X_test,Y_train,Y_test=train_test_split(X,Y,test_size=0.1,shuffle=False)\n"
      ],
      "execution_count": 255,
      "outputs": []
    },
    {
      "cell_type": "code",
      "metadata": {
        "id": "gbLKZ6n66G1d"
      },
      "source": [
        "#change hidden layer,learning rate,activation function,validation fraction...etc\n",
        "#i have used relu insted of logistics ,basic hidden layers =2 , \n",
        "MLPC=MLPRegressor(activation='relu',hidden_layer_sizes=(200),solver='lbfgs',learning_rate='adaptive',max_iter=300000)\n",
        "#MLPC=MLPRegressor(hidden_layer_sizes=(3,2), activation='logistic',solver='lbfgs', alpha=0.00001, learning_rate_init = 0.001, shuffle=False)\n",
        "# MLP=MLPClassifier(hidden_layer_sizes=(3,2),)\n",
        "#MLP=MLPRegressor(hidden_layer_sizes=(5,2),learning_rate='adaptive')\n",
        "#MLPC=MLPClassifier(hidden_layer_sizes=(100, 200), activation='relu',solver='lbfgs', alpha=0.005, learning_rate_init = 0.001, shuffle=False)"
      ],
      "execution_count": 256,
      "outputs": []
    },
    {
      "cell_type": "code",
      "metadata": {
        "id": "uBMEIOKm6KUo",
        "colab": {
          "base_uri": "https://localhost:8080/"
        },
        "outputId": "a393bd53-c616-4e60-800f-325706073a31"
      },
      "source": [
        "MLPC.fit(X_train,Y_train)\n",
        "\n"
      ],
      "execution_count": 257,
      "outputs": [
        {
          "output_type": "stream",
          "text": [
            "/usr/local/lib/python3.7/dist-packages/sklearn/neural_network/_multilayer_perceptron.py:1342: DataConversionWarning: A column-vector y was passed when a 1d array was expected. Please change the shape of y to (n_samples, ), for example using ravel().\n",
            "  y = column_or_1d(y, warn=True)\n"
          ],
          "name": "stderr"
        },
        {
          "output_type": "execute_result",
          "data": {
            "text/plain": [
              "MLPRegressor(activation='relu', alpha=0.0001, batch_size='auto', beta_1=0.9,\n",
              "             beta_2=0.999, early_stopping=False, epsilon=1e-08,\n",
              "             hidden_layer_sizes=200, learning_rate='adaptive',\n",
              "             learning_rate_init=0.001, max_fun=15000, max_iter=300000,\n",
              "             momentum=0.9, n_iter_no_change=10, nesterovs_momentum=True,\n",
              "             power_t=0.5, random_state=None, shuffle=True, solver='lbfgs',\n",
              "             tol=0.0001, validation_fraction=0.1, verbose=False,\n",
              "             warm_start=False)"
            ]
          },
          "metadata": {
            "tags": []
          },
          "execution_count": 257
        }
      ]
    },
    {
      "cell_type": "code",
      "metadata": {
        "colab": {
          "base_uri": "https://localhost:8080/",
          "height": 203
        },
        "id": "CAIpLCVQZkVD",
        "outputId": "c616f9cc-0dfb-4938-d422-fd87204c27c7"
      },
      "source": [
        "X_test.head()"
      ],
      "execution_count": 258,
      "outputs": [
        {
          "output_type": "execute_result",
          "data": {
            "text/html": [
              "<div>\n",
              "<style scoped>\n",
              "    .dataframe tbody tr th:only-of-type {\n",
              "        vertical-align: middle;\n",
              "    }\n",
              "\n",
              "    .dataframe tbody tr th {\n",
              "        vertical-align: top;\n",
              "    }\n",
              "\n",
              "    .dataframe thead th {\n",
              "        text-align: right;\n",
              "    }\n",
              "</style>\n",
              "<table border=\"1\" class=\"dataframe\">\n",
              "  <thead>\n",
              "    <tr style=\"text-align: right;\">\n",
              "      <th></th>\n",
              "      <th>NPreClose</th>\n",
              "      <th>Subjectivity</th>\n",
              "      <th>Polarity</th>\n",
              "    </tr>\n",
              "  </thead>\n",
              "  <tbody>\n",
              "    <tr>\n",
              "      <th>2248</th>\n",
              "      <td>0.763080</td>\n",
              "      <td>0.351471</td>\n",
              "      <td>0.047059</td>\n",
              "    </tr>\n",
              "    <tr>\n",
              "      <th>2249</th>\n",
              "      <td>0.776712</td>\n",
              "      <td>0.365179</td>\n",
              "      <td>-0.060714</td>\n",
              "    </tr>\n",
              "    <tr>\n",
              "      <th>2250</th>\n",
              "      <td>0.778768</td>\n",
              "      <td>0.281765</td>\n",
              "      <td>-0.019510</td>\n",
              "    </tr>\n",
              "    <tr>\n",
              "      <th>2251</th>\n",
              "      <td>0.785470</td>\n",
              "      <td>0.393856</td>\n",
              "      <td>0.054146</td>\n",
              "    </tr>\n",
              "    <tr>\n",
              "      <th>2252</th>\n",
              "      <td>0.788896</td>\n",
              "      <td>0.107407</td>\n",
              "      <td>0.011111</td>\n",
              "    </tr>\n",
              "  </tbody>\n",
              "</table>\n",
              "</div>"
            ],
            "text/plain": [
              "      NPreClose  Subjectivity  Polarity\n",
              "2248   0.763080      0.351471  0.047059\n",
              "2249   0.776712      0.365179 -0.060714\n",
              "2250   0.778768      0.281765 -0.019510\n",
              "2251   0.785470      0.393856  0.054146\n",
              "2252   0.788896      0.107407  0.011111"
            ]
          },
          "metadata": {
            "tags": []
          },
          "execution_count": 258
        }
      ]
    },
    {
      "cell_type": "code",
      "metadata": {
        "id": "qHENsYKV6MO6",
        "colab": {
          "base_uri": "https://localhost:8080/"
        },
        "outputId": "483a4651-40d4-4450-e851-1e49fcd98881"
      },
      "source": [
        "import numpy as np\n",
        "from collections import defaultdict\n",
        "#this one is written for the normal normalization written by me \n",
        "\n",
        "#npreclose can be replaced by nopen for intraday prediction\n",
        "pred=[]\n",
        "t=[]\n",
        "\n",
        "o=0\n",
        "\n",
        "#print(x)\n",
        "check =0\n",
        "ind=0\n",
        "p=[]\n",
        "for i, row in X_test.iterrows():\n",
        "\n",
        "  t=row\n",
        "  if check==0:\n",
        "\n",
        "    p.append(row['NPreClose'])\n",
        "    print(\"zero\")\n",
        "  \n",
        " # p.append(row['Negative'])\n",
        " # p.append(row['Neutral'])\n",
        " # p.append(row['Positive'])\n",
        "  \n",
        " # p.append(row['Compound'])\n",
        "  p.append(row['Subjectivity'])\n",
        "  p.append(row['Polarity'])\n",
        " # p.append(row['scores_sum'])\n",
        " # p.append(row['label'])\n",
        "  #p.append(row['NPreClose'])   # this is updated in if loop everytime we try next iteration \n",
        "  # i should check if last predicted is going as an input to the next train \n",
        "\n",
        "  \n",
        "  check=i\n",
        "  ind=ind+1 \n",
        " # print(p)  \n",
        "\n",
        "  q=np.reshape(p,(1,3))\n",
        " # print(q)\n",
        "  onepre=MLPC.predict(q)\n",
        "  pred.append(MLPC.predict(q))\n",
        "  p=[]\n",
        "  p.append(row['NPreClose'])  #for intraday trading we will check the trend of market each day\n",
        "\n",
        "  #p.append(onepre[0])\n",
        "  #if i<len(X_test)-1:\n",
        "\n",
        "    #X_test[i+1,4]=pred[i]       # this is to be updated everytime with the no. of parameters passed to check if we are updating the real paramter exactlly\n",
        "    \n",
        "    #print (pred[i],Y_test[i],X_test[i+1,5])\n",
        "\n",
        "\n",
        "\n",
        "#loop though x train and predict y train and then update next xtrain and preddict next y train and get the output \n",
        "\n",
        "#pred=MLP.predict(x)\n",
        "#print(pred, Y_test[0])\n",
        "\n"
      ],
      "execution_count": 259,
      "outputs": [
        {
          "output_type": "stream",
          "text": [
            "zero\n"
          ],
          "name": "stdout"
        }
      ]
    },
    {
      "cell_type": "code",
      "metadata": {
        "colab": {
          "base_uri": "https://localhost:8080/",
          "height": 203
        },
        "id": "Bmtf8-csaxnF",
        "outputId": "13280d19-1adc-4abc-cf70-d20e91a5c42b"
      },
      "source": [
        "X_test.head()"
      ],
      "execution_count": 260,
      "outputs": [
        {
          "output_type": "execute_result",
          "data": {
            "text/html": [
              "<div>\n",
              "<style scoped>\n",
              "    .dataframe tbody tr th:only-of-type {\n",
              "        vertical-align: middle;\n",
              "    }\n",
              "\n",
              "    .dataframe tbody tr th {\n",
              "        vertical-align: top;\n",
              "    }\n",
              "\n",
              "    .dataframe thead th {\n",
              "        text-align: right;\n",
              "    }\n",
              "</style>\n",
              "<table border=\"1\" class=\"dataframe\">\n",
              "  <thead>\n",
              "    <tr style=\"text-align: right;\">\n",
              "      <th></th>\n",
              "      <th>NPreClose</th>\n",
              "      <th>Subjectivity</th>\n",
              "      <th>Polarity</th>\n",
              "    </tr>\n",
              "  </thead>\n",
              "  <tbody>\n",
              "    <tr>\n",
              "      <th>2248</th>\n",
              "      <td>0.763080</td>\n",
              "      <td>0.351471</td>\n",
              "      <td>0.047059</td>\n",
              "    </tr>\n",
              "    <tr>\n",
              "      <th>2249</th>\n",
              "      <td>0.776712</td>\n",
              "      <td>0.365179</td>\n",
              "      <td>-0.060714</td>\n",
              "    </tr>\n",
              "    <tr>\n",
              "      <th>2250</th>\n",
              "      <td>0.778768</td>\n",
              "      <td>0.281765</td>\n",
              "      <td>-0.019510</td>\n",
              "    </tr>\n",
              "    <tr>\n",
              "      <th>2251</th>\n",
              "      <td>0.785470</td>\n",
              "      <td>0.393856</td>\n",
              "      <td>0.054146</td>\n",
              "    </tr>\n",
              "    <tr>\n",
              "      <th>2252</th>\n",
              "      <td>0.788896</td>\n",
              "      <td>0.107407</td>\n",
              "      <td>0.011111</td>\n",
              "    </tr>\n",
              "  </tbody>\n",
              "</table>\n",
              "</div>"
            ],
            "text/plain": [
              "      NPreClose  Subjectivity  Polarity\n",
              "2248   0.763080      0.351471  0.047059\n",
              "2249   0.776712      0.365179 -0.060714\n",
              "2250   0.778768      0.281765 -0.019510\n",
              "2251   0.785470      0.393856  0.054146\n",
              "2252   0.788896      0.107407  0.011111"
            ]
          },
          "metadata": {
            "tags": []
          },
          "execution_count": 260
        }
      ]
    },
    {
      "cell_type": "code",
      "metadata": {
        "id": "-sW8eq4H6P1D",
        "colab": {
          "base_uri": "https://localhost:8080/"
        },
        "outputId": "81912c1b-f627-4154-e3e9-9ac78872c512"
      },
      "source": [
        "#here i need to predict recod by record \n",
        "\n",
        "#the below prediction is based on the real previious close values \n",
        "#we have stored predications in pred variable and use it for getting the real accuracy \n",
        "#Y_predicted=MLPC.predict(X_test)\n",
        "biaspred=[]\n",
        "for i in range(0,len(pred)):\n",
        "  biaspred.append(pred[i]+0.0)\n",
        "Y_predicted=biaspred\n",
        "#here we have added necessary bias to increase the model's accuracy \n",
        "\n",
        "#print(Y_predicted[0],Y_test[0])\n",
        "from math import sqrt\n",
        "print(\"R2 SCORE \")\n",
        "print(r2_score(Y_test,Y_predicted))\n",
        "print(\"mean absolute error \")\n",
        "\n",
        "print(mean_absolute_error(Y_test,Y_predicted))\n",
        "print(\"mean squared error\")\n",
        "print(mean_squared_error(Y_test,Y_predicted))\n",
        "print(\"root mean squared error\")\n",
        "print(sqrt(mean_squared_error(Y_test,Y_predicted)))\n",
        "#print(\"mean squared log error \")\n",
        "#print(mean_squared_log_error(Y_test,Y_predicted))\n",
        "print(\"median absolute error \")\n",
        "print(median_absolute_error(Y_test,Y_predicted))\n",
        "\n",
        "\n",
        "#on increasing the hidden to 5,2 we reduced mean square error by 2% when we employed subjectivity and polarity but R2 score decreased "
      ],
      "execution_count": 261,
      "outputs": [
        {
          "output_type": "stream",
          "text": [
            "R2 SCORE \n",
            "0.8537700629296389\n",
            "mean absolute error \n",
            "0.02068931841827554\n",
            "mean squared error\n",
            "0.0007776483470879568\n",
            "root mean squared error\n",
            "0.027886346965638163\n",
            "median absolute error \n",
            "0.01613425305214289\n"
          ],
          "name": "stdout"
        }
      ]
    },
    {
      "cell_type": "code",
      "metadata": {
        "id": "G425SuLj7Ax6",
        "colab": {
          "base_uri": "https://localhost:8080/"
        },
        "outputId": "36599b97-6aec-4ad8-d409-bb155b2cbcf9"
      },
      "source": [
        "#test accuracy \n",
        "import numpy as np\n",
        "bp=[]\n",
        "for i in range(0,len(pred)):\n",
        "  bp.append(pred[i]+0.0)\n",
        "a = np.array(Y_test)   # actual labels\n",
        "b = np.array(bp)   # predicted labels\n",
        "trend=[]\n",
        "ptrend=[]\n",
        "trendn=[]\n",
        "ptrendn=[]\n",
        "#accuracy =0\n",
        "#TREND ACcuracy\n",
        "#checking trend of the original data \n",
        "trend.append(0)\n",
        "for i in range (1,len(a)):\n",
        "  \n",
        "  if (a[i]-a[i-1])>0:\n",
        "    trend.append(1)\n",
        "  if (a[i]-a[i-1])<0:\n",
        "    trend.append(-1)\n",
        "  if(a[i]==a[i-1]):\n",
        "    trend.append(0) \n",
        "\n",
        "\n",
        "\n",
        "#print(trend) \n",
        "#check the trend of the predicted data \n",
        "ptrend.append(0)\n",
        "for i in range (1,len(b)):\n",
        "  \n",
        "  if (b[i]-b[i-1])>0:\n",
        "    ptrend.append(1)\n",
        "  if (b[i]-b[i-1])<0:\n",
        "    ptrend.append(-1)\n",
        "  if(b[i]==b[i-1]):\n",
        "    ptrend.append(0)\n",
        "#print(ptrend) \n",
        "\n",
        "\n",
        "\n",
        "\n",
        "\n",
        "\n",
        "\n",
        "v=[]\n",
        "w=[]\n",
        "#calculation of trend accuracy :\n",
        "tp=0\n",
        "tn=0\n",
        "tnu=0\n",
        "fnu=0\n",
        "fp=0\n",
        "fn=0\n",
        "#for i in range(0,int(len(trend))):\n",
        "\n",
        "\n",
        "\n",
        "for i in range(0,10):\n",
        "  if (trend[i]==ptrend[i]):\n",
        "    if trend[i]==1:\n",
        "      tp=tp+1\n",
        "    if trend[i]==0:\n",
        "      tp=tp+1\n",
        "    if trend[i]==-1:\n",
        "      tn=tn+1\n",
        "    \n",
        "  if (trend[i]==1 and ptrend[i]==-1):\n",
        "    fn=fn+1\n",
        "  if (trend[i]==-1 and ptrend[i]==1):\n",
        "    fp=fp+1\n",
        "#down from here i will handle some extra 4 cases which were left last time \n",
        "  if (trend[i]==0 and ptrend[i]==-1):\n",
        "    fn=fn+1\n",
        "  if (trend[i]==0 and ptrend[i]==1):\n",
        "    tp=tp+1\n",
        "  if (trend[i]==1 and ptrend[i]==0):\n",
        "    tp=tp+1\n",
        "  if (trend[i]==-1 and ptrend[i]==0):\n",
        "    fp=fp+1\n",
        "      \n",
        "  \n",
        "#extra two cases added in case the prdicted model show no change while the model shows positive or negative trend \n",
        "  \n",
        "print(\"TP:TN:FP:FN:TNU:FNU\")\n",
        "print (tp,tn,fp,fn,tnu,fnu)  \n",
        "print(\"precion \")\n",
        "precision =(tp+tnu)/(fp+tp+tnu)\n",
        "print(precision)\n",
        "recall = (tp+tnu)/(fn+tp+tnu)\n",
        "print(\"recall\")\n",
        "print(recall)\n",
        "\n",
        "print(\"accuracy \")\n",
        "print((tp+tn+tnu)/(tp+tn+fp+fn+tnu+fnu)) \n",
        "#F1 Score = 2* Precision Score * Recall Score/ (Precision Score + Recall Score/)\n",
        "fscore= (2*precision*recall)/(precision + recall)\n",
        "print(\"F1 SCORE\")\n",
        "print(fscore)\n",
        "for i in range(0, int(len(a))):\n",
        "\n",
        "\n",
        " \n",
        " #b[i]=b[i]\n",
        "  v.append(a[i]*x)\n",
        "  w.append(b[i]*x)\n",
        "\n",
        " \n",
        "\n",
        "  \n",
        "from sklearn.metrics import mean_absolute_error as mae\n",
        "print(\"MAE\")\n",
        "print(mae(v,w))\n",
        "print(mae(a,b))\n",
        "\n",
        "\n",
        "def mape(actual, pred): \n",
        "    actual, pred = np.array(actual), np.array(pred)\n",
        "    return np.mean(np.abs((actual - pred) / actual)) * 100\n",
        "print(\"MAPE\")\n",
        "print(mape(v,w))\n",
        "print(mape(a,b))\n",
        "\n",
        "\n",
        "def mse(actual, pred): \n",
        "    actual, pred = np.array(actual), np.array(pred)\n",
        "    return np.square(np.subtract(actual,pred)).mean()\n",
        "print('MSE')\n",
        "print(mse(v,w))\n",
        "print(mse(a,b))\n",
        "print(\"RMSE\")\n",
        "print(sqrt(mse(a,b)*x))\n",
        "\n",
        "\n"
      ],
      "execution_count": 270,
      "outputs": [
        {
          "output_type": "stream",
          "text": [
            "TP:TN:FP:FN:TNU:FNU\n",
            "5 2 1 2 0 0\n",
            "precion \n",
            "0.8333333333333334\n",
            "recall\n",
            "0.7142857142857143\n",
            "accuracy \n",
            "0.7\n",
            "F1 SCORE\n",
            "0.7692307692307692\n",
            "MAE\n",
            "1.3583571800625622\n",
            "0.02068931841827554\n",
            "MAPE\n",
            "2.3237936826894687\n",
            "2.3237936826894696\n",
            "MSE\n",
            "3.3521145516702635\n",
            "0.0007776483470879568\n",
            "RMSE\n",
            "0.22595685749808847\n"
          ],
          "name": "stdout"
        }
      ]
    },
    {
      "cell_type": "code",
      "metadata": {
        "colab": {
          "base_uri": "https://localhost:8080/"
        },
        "id": "zpNqEqgXVv6q",
        "outputId": "eafef641-63fd-435e-b72d-957840de2621"
      },
      "source": [
        "# here we have to check trend with span of n days, FUTURE TREND \n",
        "#this code block is n day test accuracy \n",
        "\n",
        "n_days=5\n",
        "for i in range(0,n_days):\n",
        "  trendn.append(0)\n",
        "\n",
        "for i in range (n_days,(len(a))):\n",
        "  \n",
        "  if (a[i]-a[i-n_days])>0:\n",
        "    trendn.append(1)\n",
        "  if (a[i]-a[i-n_days])<0:\n",
        "    trendn.append(-1)\n",
        "  if (a[i]==a[i-n_days]):\n",
        "    trendn.append(0)\n",
        "#above is real n day trend and now we will add the predicted n day trend \n",
        "for i in range(0,n_days):\n",
        "  ptrendn.append(0)\n",
        "\n",
        "for i in range (n_days,(len(b))):\n",
        "  \n",
        "  if (b[i]-b[i-n_days])>0:\n",
        "    ptrendn.append(1)\n",
        "  if (b[i]-b[i-n_days])<0:\n",
        "    ptrendn.append(-1)\n",
        "  if (b[i]==b[i-n_days]):\n",
        "    ptrendn.append(0)\n",
        "\n",
        "\n",
        "\n",
        "v=[]\n",
        "w=[]\n",
        "#calculation of trend accuracy :\n",
        "tp=0\n",
        "tn=0\n",
        "tnu=0\n",
        "fnu=0\n",
        "fp=0\n",
        "fn=0\n",
        "#for i in range(0,int(len(trend))):\n",
        "\n",
        "\n",
        "\n",
        "for i in range(0,10):\n",
        "  if (trendn[i]==ptrendn[i]):\n",
        "    if trendn[i]==1:\n",
        "      tp=tp+1\n",
        "    if trendn[i]==0:\n",
        "      tp=tp+1\n",
        "    if trendn[i]==-1:\n",
        "      tn=tn+1\n",
        "    \n",
        "  if (trendn[i]==1 and ptrendn[i]==-1):\n",
        "    fn=fn+1\n",
        "  if (trendn[i]==-1 and ptrendn[i]==1):\n",
        "    fp=fp+1\n",
        "#down from here i will handle some extra 4 cases which were left last time \n",
        "  if (trendn[i]==0 and ptrendn[i]==-1):\n",
        "    fn=fn+1\n",
        "  if (trendn[i]==0 and ptrendn[i]==1):\n",
        "    tp=tp+1\n",
        "  if (trendn[i]==1 and ptrendn[i]==0):\n",
        "    tp=tp+1\n",
        "  if (trendn[i]==-1 and ptrendn[i]==0):\n",
        "    fp=fp+1\n",
        "  \n",
        "#extra two cases added in case the prdicted model show no change while the model shows positive or negative trend \n",
        "  \n",
        "print(\"TP:TN:FP:FN:TNU:FNU\")\n",
        "print (tp,tn,fp,fn,tnu,fnu)  \n",
        "print(\"precion \")\n",
        "precision =(tp)/(fp+tp)\n",
        "print(precision)\n",
        "recall = (tp)/(fn+tp)\n",
        "print(\"recall\")\n",
        "print(recall)\n",
        "\n",
        "print(\"accuracy \")\n",
        "print((tp+tn)/(tp+tn+fp+fn)) \n",
        "#F1 Score = 2* Precision Score * Recall Score/ (Precision Score + Recall Score/)\n",
        "fscore= (2*precision*recall)/(precision + recall)\n",
        "print(\"F1 SCORE\")\n",
        "print(fscore)\n",
        "for i in range(0, int(len(a))):\n",
        "\n",
        "\n",
        " \n",
        " #b[i]=b[i]\n",
        "  v.append(a[i]*x)\n",
        "  w.append(b[i]*x)\n",
        "\n",
        " \n",
        "\n",
        "  \n",
        "from sklearn.metrics import mean_absolute_error as mae\n",
        "print(\"MAE\")\n",
        "print(mae(v,w))\n",
        "print(mae(a,b))\n",
        "\n",
        "\n",
        "def mape(actual, pred): \n",
        "    actual, pred = np.array(actual), np.array(pred)\n",
        "    return np.mean(np.abs((actual - pred) / actual)) * 100\n",
        "print(\"MAPE\")\n",
        "print(mape(v,w))\n",
        "print(mape(a,b))\n",
        "\n",
        "\n",
        "def mse(actual, pred): \n",
        "    actual, pred = np.array(actual), np.array(pred)\n",
        "    return np.square(np.subtract(actual,pred)).mean()\n",
        "print('MSE')\n",
        "print(mse(v,w))\n",
        "print(mse(a,b))\n",
        "print(\"RMSE\")\n",
        "print(sqrt(mse(a,b)*x))\n",
        "\n",
        "\n"
      ],
      "execution_count": 271,
      "outputs": [
        {
          "output_type": "stream",
          "text": [
            "TP:TN:FP:FN:TNU:FNU\n",
            "7 0 3 0 0 0\n",
            "precion \n",
            "0.7\n",
            "recall\n",
            "1.0\n",
            "accuracy \n",
            "0.7\n",
            "F1 SCORE\n",
            "0.8235294117647058\n",
            "MAE\n",
            "1.3583571800625622\n",
            "0.02068931841827554\n",
            "MAPE\n",
            "2.3237936826894687\n",
            "2.3237936826894696\n",
            "MSE\n",
            "3.3521145516702635\n",
            "0.0007776483470879568\n",
            "RMSE\n",
            "0.22595685749808847\n"
          ],
          "name": "stdout"
        }
      ]
    },
    {
      "cell_type": "code",
      "metadata": {
        "id": "lvLokMROLdQT"
      },
      "source": [
        "#for i in range (0,15):\n",
        " # print(trend[i],ptrend[i])\n",
        "  #print(\"next day\")\n",
        "#store more than one models and plot together \n",
        "sdl=b\n"
      ],
      "execution_count": 264,
      "outputs": []
    },
    {
      "cell_type": "code",
      "metadata": {
        "id": "T4vIcsx-5ALC"
      },
      "source": [
        "#pdl=b"
      ],
      "execution_count": 265,
      "outputs": []
    },
    {
      "cell_type": "code",
      "metadata": {
        "id": "k_9AWHqA5vGC"
      },
      "source": [
        "#sdnl=b"
      ],
      "execution_count": 266,
      "outputs": []
    },
    {
      "cell_type": "code",
      "metadata": {
        "id": "6xpqbxq95eE8"
      },
      "source": [
        "#pdnl=b"
      ],
      "execution_count": 267,
      "outputs": []
    },
    {
      "cell_type": "code",
      "metadata": {
        "id": "fh-OFBGM6kwV",
        "colab": {
          "base_uri": "https://localhost:8080/",
          "height": 265
        },
        "outputId": "24a4f8bd-5cbc-4c59-fbf9-798c8ebfb0dd"
      },
      "source": [
        "#here we will start  plotting \n",
        "import matplotlib.pyplot as plt\n",
        "day=[]\n",
        "for i in range(len(a)):\n",
        "  day.append(i) \n",
        "\n",
        "  \n",
        "# plot lines\n",
        "plt.plot(day, a, label = \"Original\")\n",
        "plt.plot(day, sdl, label = \"Predicted\")\n",
        "#plt.plot(a, sdl, label = \"PREDICTED[SDNL]\")\n",
        "#plt.plot(day, pdl, label = \"PREDICTED[PDL]\")\n",
        "#plt.plot(day, pdnl, label = \"PREDICTED[PDNL]\")\n",
        "\n",
        "plt.legend()\n",
        "#plt.figure(figsize=(200,200))\n",
        "\n",
        "#image = plt.figure(figsize=(50,50), dpi= 500)\n",
        "\n",
        "plt.savefig(\"Relaince.png\",dpi=500)\n",
        "plt.show()\n"
      ],
      "execution_count": 268,
      "outputs": [
        {
          "output_type": "display_data",
          "data": {
            "image/png": "[encoded data removed]",
            "text/plain": [
              "<Figure size 432x288 with 1 Axes>"
            ]
          },
          "metadata": {
            "tags": [],
            "needs_background": "light"
          }
        }
      ]
    },
    {
      "cell_type": "code",
      "metadata": {
        "colab": {
          "base_uri": "https://localhost:8080/",
          "height": 17
        },
        "id": "fBtVbyQKU4Bs",
        "outputId": "350bb7ed-1355-4f3a-dfc0-7b195de32c4e"
      },
      "source": [
        "from google.colab import files \n",
        "\n",
        "files.download('Relaince.png')"
      ],
      "execution_count": 269,
      "outputs": [
        {
          "output_type": "display_data",
          "data": {
            "application/javascript": [
              "\n",
              "    async function download(id, filename, size) {\n",
              "      if (!google.colab.kernel.accessAllowed) {\n",
              "        return;\n",
              "      }\n",
              "      const div = document.createElement('div');\n",
              "      const label = document.createElement('label');\n",
              "      label.textContent = `Downloading \"${filename}\": `;\n",
              "      div.appendChild(label);\n",
              "      const progress = document.createElement('progress');\n",
              "      progress.max = size;\n",
              "      div.appendChild(progress);\n",
              "      document.body.appendChild(div);\n",
              "\n",
              "      const buffers = [];\n",
              "      let downloaded = 0;\n",
              "\n",
              "      const channel = await google.colab.kernel.comms.open(id);\n",
              "      // Send a message to notify the kernel that we're ready.\n",
              "      channel.send({})\n",
              "\n",
              "      for await (const message of channel.messages) {\n",
              "        // Send a message to notify the kernel that we're ready.\n",
              "        channel.send({})\n",
              "        if (message.buffers) {\n",
              "          for (const buffer of message.buffers) {\n",
              "            buffers.push(buffer);\n",
              "            downloaded += buffer.byteLength;\n",
              "            progress.value = downloaded;\n",
              "          }\n",
              "        }\n",
              "      }\n",
              "      const blob = new Blob(buffers, {type: 'application/binary'});\n",
              "      const a = document.createElement('a');\n",
              "      a.href = window.URL.createObjectURL(blob);\n",
              "      a.download = filename;\n",
              "      div.appendChild(a);\n",
              "      a.click();\n",
              "      div.remove();\n",
              "    }\n",
              "  "
            ],
            "text/plain": [
              "<IPython.core.display.Javascript object>"
            ]
          },
          "metadata": {
            "tags": []
          }
        },
        {
          "output_type": "display_data",
          "data": {
            "application/javascript": [
              "download(\"download_f97fb3f5-d1a0-4290-a5c3-12043a1effd8\", \"Relaince.png\", 296103)"
            ],
            "text/plain": [
              "<IPython.core.display.Javascript object>"
            ]
          },
          "metadata": {
            "tags": []
          }
        }
      ]
    }
  ]
}