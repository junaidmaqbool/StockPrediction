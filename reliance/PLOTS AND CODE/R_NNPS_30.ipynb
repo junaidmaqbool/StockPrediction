{
  "nbformat": 4,
  "nbformat_minor": 0,
  "metadata": {
    "colab": {
      "name": "MLPRegressor.ipynb",
      "provenance": [],
      "collapsed_sections": []
    },
    "kernelspec": {
      "name": "python3",
      "display_name": "Python 3"
    },
    "language_info": {
      "name": "python"
    }
  },
  "cells": [
    {
      "cell_type": "code",
      "metadata": {
        "id": "46QVN98W54kN"
      },
      "source": [
        "import pandas as pd\n",
        "import numpy as np\n",
        "from sklearn.neural_network import MLPRegressor,MLPClassifier\n",
        "from sklearn.model_selection import train_test_split\n",
        "from sklearn.metrics import r2_score,mean_absolute_error,mean_squared_error,mean_squared_log_error,median_absolute_error\n"
      ],
      "execution_count": 284,
      "outputs": []
    },
    {
      "cell_type": "code",
      "metadata": {
        "id": "n3zS3KDZ6AeX"
      },
      "source": [
        "df=pd.read_csv(\"RELIANCEFINAL.csv\")"
      ],
      "execution_count": 285,
      "outputs": []
    },
    {
      "cell_type": "code",
      "metadata": {
        "colab": {
          "base_uri": "https://localhost:8080/"
        },
        "id": "L5u2wTo56CQZ",
        "outputId": "7e9b1503-77bd-4373-cde5-8debfca76738"
      },
      "source": [
        "#personalised normalization by junaid \n",
        "x= df['Close'].max()\n",
        "y= df['Close'].min()\n",
        "z=df['Open'].max()\n",
        "df['NOpen']=1.0\n",
        "df['NClose']=1.0\n",
        "df['NPreClose']=1.0\n",
        "df['NPPreClose']=1.0\n",
        "#print(x/y)\n",
        "#(df['Close'])[1]=2\n",
        "print((df['Close'])[1])\n",
        "df.dropna()\n",
        "for i in range(len(df['Close'])):\n",
        "  (df['NClose'])[i]=float((df['Close'])[i])/x\n",
        "  (df['NPreClose'])[i]=float((df['PreClose'])[i])/x\n",
        "  (df['NOpen'])[i]=float((df['Open'])[i])/z\n",
        "  #(df['NPPreClose'])[i]=float((df['PPreClose'])[i])/x\n",
        "\n",
        "\n",
        "#df.dtypes\n",
        "df.min()"
      ],
      "execution_count": 286,
      "outputs": [
        {
          "output_type": "stream",
          "text": [
            "530.323059\n"
          ],
          "name": "stdout"
        },
        {
          "output_type": "stream",
          "text": [
            "/usr/local/lib/python3.7/dist-packages/ipykernel_launcher.py:14: SettingWithCopyWarning: \n",
            "A value is trying to be set on a copy of a slice from a DataFrame\n",
            "\n",
            "See the caveats in the documentation: https://pandas.pydata.org/pandas-docs/stable/user_guide/indexing.html#returning-a-view-versus-a-copy\n",
            "  \n",
            "/usr/local/lib/python3.7/dist-packages/ipykernel_launcher.py:15: SettingWithCopyWarning: \n",
            "A value is trying to be set on a copy of a slice from a DataFrame\n",
            "\n",
            "See the caveats in the documentation: https://pandas.pydata.org/pandas-docs/stable/user_guide/indexing.html#returning-a-view-versus-a-copy\n",
            "  from ipykernel import kernelapp as app\n",
            "/usr/local/lib/python3.7/dist-packages/ipykernel_launcher.py:16: SettingWithCopyWarning: \n",
            "A value is trying to be set on a copy of a slice from a DataFrame\n",
            "\n",
            "See the caveats in the documentation: https://pandas.pydata.org/pandas-docs/stable/user_guide/indexing.html#returning-a-view-versus-a-copy\n",
            "  app.launch_new_instance()\n"
          ],
          "name": "stderr"
        },
        {
          "output_type": "execute_result",
          "data": {
            "text/plain": [
              "Unnamed: 0                                                      0\n",
              "Unnamed: 0.1                                                    0\n",
              "Open                                                      334.331\n",
              "Date                                                   01-01-2013\n",
              "Close                                                     334.876\n",
              "Subjectivity                                                    0\n",
              "Polarity                                                     -0.8\n",
              "Compound                                                  -0.9988\n",
              "Negative                                                        0\n",
              "Neutral                                                     0.633\n",
              "Positive                                                        0\n",
              "label                                                           0\n",
              "headlines       \\tA proposal by Axis bank to increase the numb...\n",
              "sentences       ['\"All branches of State Bank of Indore will f...\n",
              "scores                           [-0.501, -0.847, -0.829, -0.981]\n",
              "scores_sum                                                  -5.88\n",
              "PreClose                                                  334.876\n",
              "PPreClose                                                 334.876\n",
              "NOpen                                                    0.208978\n",
              "NClose                                                   0.209975\n",
              "NPreClose                                                0.209975\n",
              "NPPreClose                                                      1\n",
              "dtype: object"
            ]
          },
          "metadata": {
            "tags": []
          },
          "execution_count": 286
        }
      ]
    },
    {
      "cell_type": "code",
      "metadata": {
        "id": "fIxLsYEa6EKl"
      },
      "source": [
        "#FOR PERSOANLISED SCALLER \n",
        "#X=df[['Compound','Negative','Neutral','Positive','label','NPPreClose','Subjectivity','Polarity','scores_sum']]\n",
        "X=df[['NPreClose','Negative','Neutral','Positive','scores_sum']]\n",
        "Y=df[['NClose']] \n",
        "Z=df[['NOpen']]\n",
        "X_train,X_test,Y_train,Y_test=train_test_split(X,Y,test_size=0.1,shuffle=False)\n"
      ],
      "execution_count": 287,
      "outputs": []
    },
    {
      "cell_type": "code",
      "metadata": {
        "id": "gbLKZ6n66G1d"
      },
      "source": [
        "#change hidden layer,learning rate,activation function,validation fraction...etc\n",
        "#i have used relu insted of logistics ,basic hidden layers =2 , \n",
        "MLPC=MLPRegressor(activation='relu',hidden_layer_sizes=(200),solver='lbfgs',learning_rate='adaptive',max_iter=300000)\n",
        "#MLPC=MLPRegressor(hidden_layer_sizes=(3,2), activation='logistic',solver='lbfgs', alpha=0.00001, learning_rate_init = 0.001, shuffle=False)\n",
        "# MLP=MLPClassifier(hidden_layer_sizes=(3,2),)\n",
        "#MLP=MLPRegressor(hidden_layer_sizes=(5,2),learning_rate='adaptive')\n",
        "#MLPC=MLPClassifier(hidden_layer_sizes=(100, 200), activation='relu',solver='lbfgs', alpha=0.005, learning_rate_init = 0.001, shuffle=False)"
      ],
      "execution_count": 288,
      "outputs": []
    },
    {
      "cell_type": "code",
      "metadata": {
        "id": "uBMEIOKm6KUo",
        "colab": {
          "base_uri": "https://localhost:8080/"
        },
        "outputId": "6b3cfa91-f665-4183-d383-a2db9a4d8110"
      },
      "source": [
        "MLPC.fit(X_train,Y_train)\n",
        "\n"
      ],
      "execution_count": 289,
      "outputs": [
        {
          "output_type": "stream",
          "text": [
            "/usr/local/lib/python3.7/dist-packages/sklearn/neural_network/_multilayer_perceptron.py:1342: DataConversionWarning: A column-vector y was passed when a 1d array was expected. Please change the shape of y to (n_samples, ), for example using ravel().\n",
            "  y = column_or_1d(y, warn=True)\n"
          ],
          "name": "stderr"
        },
        {
          "output_type": "execute_result",
          "data": {
            "text/plain": [
              "MLPRegressor(activation='relu', alpha=0.0001, batch_size='auto', beta_1=0.9,\n",
              "             beta_2=0.999, early_stopping=False, epsilon=1e-08,\n",
              "             hidden_layer_sizes=200, learning_rate='adaptive',\n",
              "             learning_rate_init=0.001, max_fun=15000, max_iter=300000,\n",
              "             momentum=0.9, n_iter_no_change=10, nesterovs_momentum=True,\n",
              "             power_t=0.5, random_state=None, shuffle=True, solver='lbfgs',\n",
              "             tol=0.0001, validation_fraction=0.1, verbose=False,\n",
              "             warm_start=False)"
            ]
          },
          "metadata": {
            "tags": []
          },
          "execution_count": 289
        }
      ]
    },
    {
      "cell_type": "code",
      "metadata": {
        "colab": {
          "base_uri": "https://localhost:8080/",
          "height": 203
        },
        "id": "CAIpLCVQZkVD",
        "outputId": "3078ea64-96ea-4e58-c728-5af1427b48e7"
      },
      "source": [
        "X_test.head()"
      ],
      "execution_count": 290,
      "outputs": [
        {
          "output_type": "execute_result",
          "data": {
            "text/html": [
              "<div>\n",
              "<style scoped>\n",
              "    .dataframe tbody tr th:only-of-type {\n",
              "        vertical-align: middle;\n",
              "    }\n",
              "\n",
              "    .dataframe tbody tr th {\n",
              "        vertical-align: top;\n",
              "    }\n",
              "\n",
              "    .dataframe thead th {\n",
              "        text-align: right;\n",
              "    }\n",
              "</style>\n",
              "<table border=\"1\" class=\"dataframe\">\n",
              "  <thead>\n",
              "    <tr style=\"text-align: right;\">\n",
              "      <th></th>\n",
              "      <th>NPreClose</th>\n",
              "      <th>Negative</th>\n",
              "      <th>Neutral</th>\n",
              "      <th>Positive</th>\n",
              "      <th>scores_sum</th>\n",
              "    </tr>\n",
              "  </thead>\n",
              "  <tbody>\n",
              "    <tr>\n",
              "      <th>2286</th>\n",
              "      <td>0.875089</td>\n",
              "      <td>0.000</td>\n",
              "      <td>0.886</td>\n",
              "      <td>0.114</td>\n",
              "      <td>-1.000</td>\n",
              "    </tr>\n",
              "    <tr>\n",
              "      <th>2287</th>\n",
              "      <td>0.860213</td>\n",
              "      <td>0.042</td>\n",
              "      <td>0.876</td>\n",
              "      <td>0.082</td>\n",
              "      <td>-0.982</td>\n",
              "    </tr>\n",
              "    <tr>\n",
              "      <th>2288</th>\n",
              "      <td>0.834498</td>\n",
              "      <td>0.168</td>\n",
              "      <td>0.731</td>\n",
              "      <td>0.102</td>\n",
              "      <td>-1.000</td>\n",
              "    </tr>\n",
              "    <tr>\n",
              "      <th>2289</th>\n",
              "      <td>0.807137</td>\n",
              "      <td>0.243</td>\n",
              "      <td>0.709</td>\n",
              "      <td>0.048</td>\n",
              "      <td>-1.000</td>\n",
              "    </tr>\n",
              "    <tr>\n",
              "      <th>2290</th>\n",
              "      <td>0.780428</td>\n",
              "      <td>0.043</td>\n",
              "      <td>0.930</td>\n",
              "      <td>0.028</td>\n",
              "      <td>-1.963</td>\n",
              "    </tr>\n",
              "  </tbody>\n",
              "</table>\n",
              "</div>"
            ],
            "text/plain": [
              "      NPreClose  Negative  Neutral  Positive  scores_sum\n",
              "2286   0.875089     0.000    0.886     0.114      -1.000\n",
              "2287   0.860213     0.042    0.876     0.082      -0.982\n",
              "2288   0.834498     0.168    0.731     0.102      -1.000\n",
              "2289   0.807137     0.243    0.709     0.048      -1.000\n",
              "2290   0.780428     0.043    0.930     0.028      -1.963"
            ]
          },
          "metadata": {
            "tags": []
          },
          "execution_count": 290
        }
      ]
    },
    {
      "cell_type": "code",
      "metadata": {
        "id": "qHENsYKV6MO6",
        "colab": {
          "base_uri": "https://localhost:8080/"
        },
        "outputId": "38021d2f-e13d-4b0d-c90d-4fe2bf7f4319"
      },
      "source": [
        "import numpy as np\n",
        "from collections import defaultdict\n",
        "#this one is written for the normal normalization written by me \n",
        "\n",
        "#npreclose can be replaced by nopen for intraday prediction\n",
        "pred=[]\n",
        "t=[]\n",
        "\n",
        "o=0\n",
        "\n",
        "#print(x)\n",
        "check =0\n",
        "ind=0\n",
        "p=[]\n",
        "for i, row in X_test.iterrows():\n",
        "\n",
        "  t=row\n",
        "  if check==0:\n",
        "\n",
        "    p.append(row['NPreClose'])\n",
        "    print(\"zero\")\n",
        "  \n",
        "  p.append(row['Negative'])\n",
        "  p.append(row['Neutral'])\n",
        "  p.append(row['Positive'])\n",
        "  \n",
        " # p.append(row['Compound'])\n",
        " # p.append(row['Subjectivity'])\n",
        "  #p.append(row['Polarity'])\n",
        "  p.append(row['scores_sum'])\n",
        " # p.append(row['label'])\n",
        "\n",
        "\n",
        "  \n",
        "  check=i\n",
        "  ind=ind+1 \n",
        " # print(p)  \n",
        "\n",
        "  q=np.reshape(p,(1,5))\n",
        " # print(q)\n",
        "  onepre=MLPC.predict(q)\n",
        "  pred.append(MLPC.predict(q))\n",
        "  p=[]\n",
        "  p.append(row['NPreClose'])  #for intraday trading we will check the trend of market each day\n",
        "\n",
        "  #p.append(onepre[0])\n",
        "  #if i<len(X_test)-1:\n",
        "\n",
        "    #X_test[i+1,4]=pred[i]       # this is to be updated everytime with the no. of parameters passed to check if we are updating the real paramter exactlly\n",
        "    \n",
        "    #print (pred[i],Y_test[i],X_test[i+1,5])\n",
        "\n",
        "\n",
        "\n",
        "#loop though x train and predict y train and then update next xtrain and preddict next y train and get the output \n",
        "\n",
        "#pred=MLP.predict(x)\n",
        "#print(pred, Y_test[0])\n",
        "\n"
      ],
      "execution_count": 291,
      "outputs": [
        {
          "output_type": "stream",
          "text": [
            "zero\n"
          ],
          "name": "stdout"
        }
      ]
    },
    {
      "cell_type": "code",
      "metadata": {
        "colab": {
          "base_uri": "https://localhost:8080/",
          "height": 203
        },
        "id": "Bmtf8-csaxnF",
        "outputId": "b9120b82-1cc7-4cd6-8457-c57942f57065"
      },
      "source": [
        "X_test.head()"
      ],
      "execution_count": 292,
      "outputs": [
        {
          "output_type": "execute_result",
          "data": {
            "text/html": [
              "<div>\n",
              "<style scoped>\n",
              "    .dataframe tbody tr th:only-of-type {\n",
              "        vertical-align: middle;\n",
              "    }\n",
              "\n",
              "    .dataframe tbody tr th {\n",
              "        vertical-align: top;\n",
              "    }\n",
              "\n",
              "    .dataframe thead th {\n",
              "        text-align: right;\n",
              "    }\n",
              "</style>\n",
              "<table border=\"1\" class=\"dataframe\">\n",
              "  <thead>\n",
              "    <tr style=\"text-align: right;\">\n",
              "      <th></th>\n",
              "      <th>NPreClose</th>\n",
              "      <th>Negative</th>\n",
              "      <th>Neutral</th>\n",
              "      <th>Positive</th>\n",
              "      <th>scores_sum</th>\n",
              "    </tr>\n",
              "  </thead>\n",
              "  <tbody>\n",
              "    <tr>\n",
              "      <th>2286</th>\n",
              "      <td>0.875089</td>\n",
              "      <td>0.000</td>\n",
              "      <td>0.886</td>\n",
              "      <td>0.114</td>\n",
              "      <td>-1.000</td>\n",
              "    </tr>\n",
              "    <tr>\n",
              "      <th>2287</th>\n",
              "      <td>0.860213</td>\n",
              "      <td>0.042</td>\n",
              "      <td>0.876</td>\n",
              "      <td>0.082</td>\n",
              "      <td>-0.982</td>\n",
              "    </tr>\n",
              "    <tr>\n",
              "      <th>2288</th>\n",
              "      <td>0.834498</td>\n",
              "      <td>0.168</td>\n",
              "      <td>0.731</td>\n",
              "      <td>0.102</td>\n",
              "      <td>-1.000</td>\n",
              "    </tr>\n",
              "    <tr>\n",
              "      <th>2289</th>\n",
              "      <td>0.807137</td>\n",
              "      <td>0.243</td>\n",
              "      <td>0.709</td>\n",
              "      <td>0.048</td>\n",
              "      <td>-1.000</td>\n",
              "    </tr>\n",
              "    <tr>\n",
              "      <th>2290</th>\n",
              "      <td>0.780428</td>\n",
              "      <td>0.043</td>\n",
              "      <td>0.930</td>\n",
              "      <td>0.028</td>\n",
              "      <td>-1.963</td>\n",
              "    </tr>\n",
              "  </tbody>\n",
              "</table>\n",
              "</div>"
            ],
            "text/plain": [
              "      NPreClose  Negative  Neutral  Positive  scores_sum\n",
              "2286   0.875089     0.000    0.886     0.114      -1.000\n",
              "2287   0.860213     0.042    0.876     0.082      -0.982\n",
              "2288   0.834498     0.168    0.731     0.102      -1.000\n",
              "2289   0.807137     0.243    0.709     0.048      -1.000\n",
              "2290   0.780428     0.043    0.930     0.028      -1.963"
            ]
          },
          "metadata": {
            "tags": []
          },
          "execution_count": 292
        }
      ]
    },
    {
      "cell_type": "code",
      "metadata": {
        "id": "-sW8eq4H6P1D",
        "colab": {
          "base_uri": "https://localhost:8080/"
        },
        "outputId": "1b59ed19-a544-4e03-af0f-ee25756b35f8"
      },
      "source": [
        "#here i need to predict recod by record \n",
        "\n",
        "#the below prediction is based on the real previious close values \n",
        "#we have stored predications in pred variable and use it for getting the real accuracy \n",
        "#Y_predicted=MLPC.predict(X_test)\n",
        "biaspred=[]\n",
        "for i in range(0,len(pred)):\n",
        "  biaspred.append(pred[i]+0.0)\n",
        "Y_predicted=biaspred\n",
        "#here we have added necessary bias to increase the model's accuracy \n",
        "\n",
        "#print(Y_predicted[0],Y_test[0])\n",
        "from math import sqrt\n",
        "print(\"R2 SCORE \")\n",
        "print(r2_score(Y_test,Y_predicted))\n",
        "print(\"mean absolute error \")\n",
        "\n",
        "print(mean_absolute_error(Y_test,Y_predicted))\n",
        "print(\"mean squared error\")\n",
        "print(mean_squared_error(Y_test,Y_predicted))\n",
        "print(\"root mean squared error\")\n",
        "print(sqrt(mean_squared_error(Y_test,Y_predicted)))\n",
        "#print(\"mean squared log error \")\n",
        "#print(mean_squared_log_error(Y_test,Y_predicted))\n",
        "print(\"median absolute error \")\n",
        "print(median_absolute_error(Y_test,Y_predicted))\n",
        "\n",
        "\n",
        "#on increasing the hidden to 5,2 we reduced mean square error by 2% when we employed subjectivity and polarity but R2 score decreased "
      ],
      "execution_count": 293,
      "outputs": [
        {
          "output_type": "stream",
          "text": [
            "R2 SCORE \n",
            "0.9091609581440409\n",
            "mean absolute error \n",
            "0.02081480214743951\n",
            "mean squared error\n",
            "0.0007844580772725176\n",
            "root mean squared error\n",
            "0.028008178756793838\n",
            "median absolute error \n",
            "0.016328603653462892\n"
          ],
          "name": "stdout"
        }
      ]
    },
    {
      "cell_type": "code",
      "metadata": {
        "id": "G425SuLj7Ax6",
        "colab": {
          "base_uri": "https://localhost:8080/"
        },
        "outputId": "1863a886-fb76-4e30-99f2-10329df092ad"
      },
      "source": [
        "#test accuracy \n",
        "import numpy as np\n",
        "bp=[]\n",
        "for i in range(0,len(pred)):\n",
        "  bp.append(pred[i]+0.0)\n",
        "a = np.array(Y_test)   # actual labels\n",
        "b = np.array(bp)   # predicted labels\n",
        "trend=[]\n",
        "ptrend=[]\n",
        "trendn=[]\n",
        "ptrendn=[]\n",
        "#accuracy =0\n",
        "#TREND ACcuracy\n",
        "#checking trend of the original data \n",
        "trend.append(0)\n",
        "for i in range (1,len(a)):\n",
        "  \n",
        "  if (a[i]-a[i-1])>0:\n",
        "    trend.append(1)\n",
        "  if (a[i]-a[i-1])<0:\n",
        "    trend.append(-1)\n",
        "  if(a[i]==a[i-1]):\n",
        "    trend.append(0) \n",
        "\n",
        "\n",
        "\n",
        "#print(trend) \n",
        "#check the trend of the predicted data \n",
        "ptrend.append(0)\n",
        "for i in range (1,len(b)):\n",
        "  \n",
        "  if (b[i]-b[i-1])>0:\n",
        "    ptrend.append(1)\n",
        "  if (b[i]-b[i-1])<0:\n",
        "    ptrend.append(-1)\n",
        "  if(b[i]==b[i-1]):\n",
        "    ptrend.append(0)\n",
        "#print(ptrend) \n",
        "\n",
        "\n",
        "\n",
        "\n",
        "\n",
        "\n",
        "\n",
        "v=[]\n",
        "w=[]\n",
        "#calculation of trend accuracy :\n",
        "tp=0\n",
        "tn=0\n",
        "tnu=0\n",
        "fnu=0\n",
        "fp=0\n",
        "fn=0\n",
        "#for i in range(0,int(len(trend))):\n",
        "\n",
        "\n",
        "\n",
        "for i in range(0,30):\n",
        "  if (trend[i]==ptrend[i]):\n",
        "    if trend[i]==1:\n",
        "      tp=tp+1\n",
        "    if trend[i]==0:\n",
        "      tp=tp+1\n",
        "    if trend[i]==-1:\n",
        "      tn=tn+1\n",
        "    \n",
        "  if (trend[i]==1 and ptrend[i]==-1):\n",
        "    fn=fn+1\n",
        "  if (trend[i]==-1 and ptrend[i]==1):\n",
        "    fp=fp+1\n",
        "#down from here i will handle some extra 4 cases which were left last time \n",
        "  if (trend[i]==0 and ptrend[i]==-1):\n",
        "    fn=fn+1\n",
        "  if (trend[i]==0 and ptrend[i]==1):\n",
        "    tp=tp+1\n",
        "  if (trend[i]==1 and ptrend[i]==0):\n",
        "    tp=tp+1\n",
        "  if (trend[i]==-1 and ptrend[i]==0):\n",
        "    fp=fp+1\n",
        "      \n",
        "  \n",
        "#extra two cases added in case the prdicted model show no change while the model shows positive or negative trend \n",
        "  \n",
        "print(\"TP:TN:FP:FN:TNU:FNU\")\n",
        "print (tp,tn,fp,fn,tnu,fnu)  \n",
        "print(\"precion \")\n",
        "precision =(tp+tnu)/(fp+tp+tnu)\n",
        "print(precision)\n",
        "recall = (tp+tnu)/(fn+tp+tnu)\n",
        "print(\"recall\")\n",
        "print(recall)\n",
        "\n",
        "print(\"accuracy \")\n",
        "print((tp+tn+tnu)/(tp+tn+fp+fn+tnu+fnu)) \n",
        "#F1 Score = 2* Precision Score * Recall Score/ (Precision Score + Recall Score/)\n",
        "fscore= (2*precision*recall)/(precision + recall)\n",
        "print(\"F1 SCORE\")\n",
        "print(fscore)\n",
        "for i in range(0, int(len(a))):\n",
        "\n",
        "\n",
        " \n",
        " #b[i]=b[i]\n",
        "  v.append(a[i]*x)\n",
        "  w.append(b[i]*x)\n",
        "\n",
        " \n",
        "\n",
        "  \n",
        "from sklearn.metrics import mean_absolute_error as mae\n",
        "print(\"MAE\")\n",
        "print(mae(v,w))\n",
        "print(mae(a,b))\n",
        "\n",
        "\n",
        "def mape(actual, pred): \n",
        "    actual, pred = np.array(actual), np.array(pred)\n",
        "    return np.mean(np.abs((actual - pred) / actual)) * 100\n",
        "print(\"MAPE\")\n",
        "print(mape(v,w))\n",
        "print(mape(a,b))\n",
        "\n",
        "\n",
        "def mse(actual, pred): \n",
        "    actual, pred = np.array(actual), np.array(pred)\n",
        "    return np.square(np.subtract(actual,pred)).mean()\n",
        "print('MSE')\n",
        "print(mse(v,w))\n",
        "print(mse(a,b))\n",
        "print(\"RMSE\")\n",
        "print(sqrt(mse(a,b)*x))\n",
        "\n",
        "\n"
      ],
      "execution_count": 294,
      "outputs": [
        {
          "output_type": "stream",
          "text": [
            "TP:TN:FP:FN:TNU:FNU\n",
            "10 10 5 5 0 0\n",
            "precion \n",
            "0.6666666666666666\n",
            "recall\n",
            "0.6666666666666666\n",
            "accuracy \n",
            "0.6666666666666666\n",
            "F1 SCORE\n",
            "0.6666666666666666\n",
            "MAE\n",
            "33.196125901508225\n",
            "0.02081480214743951\n",
            "MAPE\n",
            "2.57425158433761\n",
            "2.5742515843376097\n",
            "MSE\n",
            "1995.2621817865486\n",
            "0.0007844580772725176\n",
            "RMSE\n",
            "1.118516583656572\n"
          ],
          "name": "stdout"
        }
      ]
    },
    {
      "cell_type": "code",
      "metadata": {
        "colab": {
          "base_uri": "https://localhost:8080/"
        },
        "id": "zpNqEqgXVv6q",
        "outputId": "37c78107-8d8a-4c52-b169-78d06e0ff5c1"
      },
      "source": [
        "# here we have to check trend with span of n days, FUTURE TREND \n",
        "#this code block is n day test accuracy \n",
        "\n",
        "n_days=5\n",
        "for i in range(0,n_days):\n",
        "  trendn.append(0)\n",
        "\n",
        "for i in range (n_days,(len(a))):\n",
        "  \n",
        "  if (a[i]-a[i-n_days])>0:\n",
        "    trendn.append(1)\n",
        "  if (a[i]-a[i-n_days])<0:\n",
        "    trendn.append(-1)\n",
        "  if (a[i]==a[i-n_days]):\n",
        "    trendn.append(0)\n",
        "#above is real n day trend and now we will add the predicted n day trend \n",
        "for i in range(0,n_days):\n",
        "  ptrendn.append(0)\n",
        "\n",
        "for i in range (n_days,(len(b))):\n",
        "  \n",
        "  if (b[i]-b[i-n_days])>0:\n",
        "    ptrendn.append(1)\n",
        "  if (b[i]-b[i-n_days])<0:\n",
        "    ptrendn.append(-1)\n",
        "  if (b[i]==b[i-n_days]):\n",
        "    ptrendn.append(0)\n",
        "\n",
        "\n",
        "\n",
        "v=[]\n",
        "w=[]\n",
        "#calculation of trend accuracy :\n",
        "tp=0\n",
        "tn=0\n",
        "tnu=0\n",
        "fnu=0\n",
        "fp=0\n",
        "fn=0\n",
        "#for i in range(0,int(len(trend))):\n",
        "\n",
        "\n",
        "\n",
        "for i in range(0,30):\n",
        "  if (trendn[i]==ptrendn[i]):\n",
        "    if trendn[i]==1:\n",
        "      tp=tp+1\n",
        "    if trendn[i]==0:\n",
        "      tp=tp+1\n",
        "    if trendn[i]==-1:\n",
        "      tn=tn+1\n",
        "    \n",
        "  if (trendn[i]==1 and ptrendn[i]==-1):\n",
        "    fn=fn+1\n",
        "  if (trendn[i]==-1 and ptrendn[i]==1):\n",
        "    fp=fp+1\n",
        "#down from here i will handle some extra 4 cases which were left last time \n",
        "  if (trendn[i]==0 and ptrendn[i]==-1):\n",
        "    fn=fn+1\n",
        "  if (trendn[i]==0 and ptrendn[i]==1):\n",
        "    tp=tp+1\n",
        "  if (trendn[i]==1 and ptrendn[i]==0):\n",
        "    tp=tp+1\n",
        "  if (trendn[i]==-1 and ptrendn[i]==0):\n",
        "    fp=fp+1\n",
        "  \n",
        "#extra two cases added in case the prdicted model show no change while the model shows positive or negative trend \n",
        "  \n",
        "print(\"TP:TN:FP:FN:TNU:FNU\")\n",
        "print (tp,tn,fp,fn,tnu,fnu)  \n",
        "print(\"precion \")\n",
        "precision =(tp)/(fp+tp)\n",
        "print(precision)\n",
        "recall = (tp)/(fn+tp)\n",
        "print(\"recall\")\n",
        "print(recall)\n",
        "\n",
        "print(\"accuracy \")\n",
        "print((tp+tn)/(tp+tn+fp+fn)) \n",
        "#F1 Score = 2* Precision Score * Recall Score/ (Precision Score + Recall Score/)\n",
        "fscore= (2*precision*recall)/(precision + recall)\n",
        "print(\"F1 SCORE\")\n",
        "print(fscore)\n",
        "for i in range(0, int(len(a))):\n",
        "\n",
        "\n",
        " \n",
        " #b[i]=b[i]\n",
        "  v.append(a[i]*x)\n",
        "  w.append(b[i]*x)\n",
        "\n",
        " \n",
        "\n",
        "  \n",
        "from sklearn.metrics import mean_absolute_error as mae\n",
        "print(\"MAE\")\n",
        "print(mae(v,w))\n",
        "print(mae(a,b))\n",
        "\n",
        "\n",
        "def mape(actual, pred): \n",
        "    actual, pred = np.array(actual), np.array(pred)\n",
        "    return np.mean(np.abs((actual - pred) / actual)) * 100\n",
        "print(\"MAPE\")\n",
        "print(mape(v,w))\n",
        "print(mape(a,b))\n",
        "\n",
        "\n",
        "def mse(actual, pred): \n",
        "    actual, pred = np.array(actual), np.array(pred)\n",
        "    return np.square(np.subtract(actual,pred)).mean()\n",
        "print('MSE')\n",
        "print(mse(v,w))\n",
        "print(mse(a,b))\n",
        "print(\"RMSE\")\n",
        "print(sqrt(mse(a,b)*x))\n",
        "\n",
        "\n"
      ],
      "execution_count": 295,
      "outputs": [
        {
          "output_type": "stream",
          "text": [
            "TP:TN:FP:FN:TNU:FNU\n",
            "11 7 7 5 0 0\n",
            "precion \n",
            "0.6111111111111112\n",
            "recall\n",
            "0.6875\n",
            "accuracy \n",
            "0.6\n",
            "F1 SCORE\n",
            "0.6470588235294118\n",
            "MAE\n",
            "33.196125901508225\n",
            "0.02081480214743951\n",
            "MAPE\n",
            "2.57425158433761\n",
            "2.5742515843376097\n",
            "MSE\n",
            "1995.2621817865486\n",
            "0.0007844580772725176\n",
            "RMSE\n",
            "1.118516583656572\n"
          ],
          "name": "stdout"
        }
      ]
    },
    {
      "cell_type": "code",
      "metadata": {
        "id": "lvLokMROLdQT"
      },
      "source": [
        "#for i in range (0,15):\n",
        " # print(trend[i],ptrend[i])\n",
        "  #print(\"next day\")\n",
        "#store more than one models and plot together \n",
        "sdl=b\n"
      ],
      "execution_count": 296,
      "outputs": []
    },
    {
      "cell_type": "code",
      "metadata": {
        "id": "T4vIcsx-5ALC"
      },
      "source": [
        "#pdl=b"
      ],
      "execution_count": 297,
      "outputs": []
    },
    {
      "cell_type": "code",
      "metadata": {
        "id": "k_9AWHqA5vGC"
      },
      "source": [
        "#sdnl=b"
      ],
      "execution_count": 298,
      "outputs": []
    },
    {
      "cell_type": "code",
      "metadata": {
        "id": "6xpqbxq95eE8"
      },
      "source": [
        "#pdnl=b"
      ],
      "execution_count": 299,
      "outputs": []
    },
    {
      "cell_type": "code",
      "metadata": {
        "id": "fh-OFBGM6kwV",
        "colab": {
          "base_uri": "https://localhost:8080/",
          "height": 265
        },
        "outputId": "f4fec22a-ec1e-4f38-90c0-0486eeb5822e"
      },
      "source": [
        "#here we will start  plotting \n",
        "import matplotlib.pyplot as plt\n",
        "day=[]\n",
        "for i in range(len(a)):\n",
        "  day.append(i) \n",
        "\n",
        "  \n",
        "# plot lines\n",
        "plt.plot(day, a, label = \"Original\")\n",
        "plt.plot(day, sdl, label = \"Predicted\")\n",
        "#plt.plot(a, sdl, label = \"PREDICTED[SDNL]\")\n",
        "#plt.plot(day, pdl, label = \"PREDICTED[PDL]\")\n",
        "#plt.plot(day, pdnl, label = \"PREDICTED[PDNL]\")\n",
        "\n",
        "plt.legend()\n",
        "#plt.figure(figsize=(200,200))\n",
        "\n",
        "#image = plt.figure(figsize=(50,50), dpi= 500)\n",
        "\n",
        "plt.savefig(\"Relaince.png\",dpi=500)\n",
        "plt.show()\n"
      ],
      "execution_count": 300,
      "outputs": [
        {
          "output_type": "display_data",
          "data": {
            "image/png": "[encoded data removed]",
            "text/plain": [
              "<Figure size 432x288 with 1 Axes>"
            ]
          },
          "metadata": {
            "tags": [],
            "needs_background": "light"
          }
        }
      ]
    },
    {
      "cell_type": "code",
      "metadata": {
        "colab": {
          "base_uri": "https://localhost:8080/",
          "height": 17
        },
        "id": "fBtVbyQKU4Bs",
        "outputId": "95bcaca3-ec5b-4c1c-cfd5-693005811d03"
      },
      "source": [
        "from google.colab import files \n",
        "\n",
        "files.download('Relaince.png')"
      ],
      "execution_count": 301,
      "outputs": [
        {
          "output_type": "display_data",
          "data": {
            "application/javascript": [
              "\n",
              "    async function download(id, filename, size) {\n",
              "      if (!google.colab.kernel.accessAllowed) {\n",
              "        return;\n",
              "      }\n",
              "      const div = document.createElement('div');\n",
              "      const label = document.createElement('label');\n",
              "      label.textContent = `Downloading \"${filename}\": `;\n",
              "      div.appendChild(label);\n",
              "      const progress = document.createElement('progress');\n",
              "      progress.max = size;\n",
              "      div.appendChild(progress);\n",
              "      document.body.appendChild(div);\n",
              "\n",
              "      const buffers = [];\n",
              "      let downloaded = 0;\n",
              "\n",
              "      const channel = await google.colab.kernel.comms.open(id);\n",
              "      // Send a message to notify the kernel that we're ready.\n",
              "      channel.send({})\n",
              "\n",
              "      for await (const message of channel.messages) {\n",
              "        // Send a message to notify the kernel that we're ready.\n",
              "        channel.send({})\n",
              "        if (message.buffers) {\n",
              "          for (const buffer of message.buffers) {\n",
              "            buffers.push(buffer);\n",
              "            downloaded += buffer.byteLength;\n",
              "            progress.value = downloaded;\n",
              "          }\n",
              "        }\n",
              "      }\n",
              "      const blob = new Blob(buffers, {type: 'application/binary'});\n",
              "      const a = document.createElement('a');\n",
              "      a.href = window.URL.createObjectURL(blob);\n",
              "      a.download = filename;\n",
              "      div.appendChild(a);\n",
              "      a.click();\n",
              "      div.remove();\n",
              "    }\n",
              "  "
            ],
            "text/plain": [
              "<IPython.core.display.Javascript object>"
            ]
          },
          "metadata": {
            "tags": []
          }
        },
        {
          "output_type": "display_data",
          "data": {
            "application/javascript": [
              "download(\"download_dc446aa3-ed1f-4fd8-9d8a-e8de2fbcebd7\", \"Relaince.png\", 255896)"
            ],
            "text/plain": [
              "<IPython.core.display.Javascript object>"
            ]
          },
          "metadata": {
            "tags": []
          }
        }
      ]
    }
  ]
}